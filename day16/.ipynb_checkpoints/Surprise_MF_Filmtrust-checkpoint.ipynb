{
 "cells": [
  {
   "cell_type": "code",
   "execution_count": 1,
   "metadata": {
    "colab": {
     "base_uri": "https://localhost:8080/"
    },
    "id": "GH42I0E9CeZ_",
    "outputId": "d435e21e-b8b5-4ea2-dd48-1d030465354e"
   },
   "outputs": [
    {
     "name": "stdout",
     "output_type": "stream",
     "text": [
      "Requirement already satisfied: scikit-surprise in c:\\users\\dbda\\appdata\\local\\anaconda3\\lib\\site-packages (1.1.3)\n",
      "Requirement already satisfied: joblib>=1.0.0 in c:\\users\\dbda\\appdata\\local\\anaconda3\\lib\\site-packages (from scikit-surprise) (1.2.0)\n",
      "Requirement already satisfied: numpy>=1.17.3 in c:\\users\\dbda\\appdata\\local\\anaconda3\\lib\\site-packages (from scikit-surprise) (1.26.3)\n",
      "Requirement already satisfied: scipy>=1.3.2 in c:\\users\\dbda\\appdata\\local\\anaconda3\\lib\\site-packages (from scikit-surprise) (1.11.4)\n"
     ]
    }
   ],
   "source": [
    "!pip install scikit-surprise"
   ]
  },
  {
   "cell_type": "code",
   "execution_count": 2,
   "metadata": {
    "id": "oNma9-IS_DVU"
   },
   "outputs": [],
   "source": [
    "import pandas as pd\n",
    "import numpy as np\n",
    "import surprise\n",
    "import os"
   ]
  },
  {
   "cell_type": "code",
   "execution_count": 3,
   "metadata": {
    "colab": {
     "base_uri": "https://localhost:8080/",
     "height": 206
    },
    "id": "-MXjYaQYC4Ku",
    "outputId": "e357a8f1-eb56-4e43-c46d-1ab18996e652"
   },
   "outputs": [
    {
     "data": {
      "text/html": [
       "<div>\n",
       "<style scoped>\n",
       "    .dataframe tbody tr th:only-of-type {\n",
       "        vertical-align: middle;\n",
       "    }\n",
       "\n",
       "    .dataframe tbody tr th {\n",
       "        vertical-align: top;\n",
       "    }\n",
       "\n",
       "    .dataframe thead th {\n",
       "        text-align: right;\n",
       "    }\n",
       "</style>\n",
       "<table border=\"1\" class=\"dataframe\">\n",
       "  <thead>\n",
       "    <tr style=\"text-align: right;\">\n",
       "      <th></th>\n",
       "      <th>user_id</th>\n",
       "      <th>item_id</th>\n",
       "      <th>rating</th>\n",
       "    </tr>\n",
       "  </thead>\n",
       "  <tbody>\n",
       "    <tr>\n",
       "      <th>0</th>\n",
       "      <td>196</td>\n",
       "      <td>242</td>\n",
       "      <td>3</td>\n",
       "    </tr>\n",
       "    <tr>\n",
       "      <th>1</th>\n",
       "      <td>186</td>\n",
       "      <td>302</td>\n",
       "      <td>3</td>\n",
       "    </tr>\n",
       "    <tr>\n",
       "      <th>2</th>\n",
       "      <td>22</td>\n",
       "      <td>377</td>\n",
       "      <td>1</td>\n",
       "    </tr>\n",
       "    <tr>\n",
       "      <th>3</th>\n",
       "      <td>244</td>\n",
       "      <td>51</td>\n",
       "      <td>2</td>\n",
       "    </tr>\n",
       "    <tr>\n",
       "      <th>4</th>\n",
       "      <td>166</td>\n",
       "      <td>346</td>\n",
       "      <td>1</td>\n",
       "    </tr>\n",
       "  </tbody>\n",
       "</table>\n",
       "</div>"
      ],
      "text/plain": [
       "   user_id  item_id  rating\n",
       "0      196      242       3\n",
       "1      186      302       3\n",
       "2       22      377       1\n",
       "3      244       51       2\n",
       "4      166      346       1"
      ]
     },
     "execution_count": 3,
     "metadata": {},
     "output_type": "execute_result"
    }
   ],
   "source": [
    "ratings = pd.read_table(\"C:/Users/dbda/Desktop/PML/recommender_systems/ml-100k/u.data\",sep='\\t',names = ['user_id','item_id','rating','timestamp'])\n",
    "ratings.drop('timestamp',axis=1,inplace=True)\n",
    "ratings.head()"
   ]
  },
  {
   "cell_type": "code",
   "execution_count": 4,
   "metadata": {
    "colab": {
     "base_uri": "https://localhost:8080/"
    },
    "id": "nJKhYMfxCdHk",
    "outputId": "d683c587-e709-4e9b-8b69-006192719f69"
   },
   "outputs": [
    {
     "name": "stdout",
     "output_type": "stream",
     "text": [
      "Ratings range between 1 and 5\n"
     ]
    }
   ],
   "source": [
    "lowest_rating = ratings['rating'].min()\n",
    "highest_rating = ratings['rating'].max()\n",
    "print(\"Ratings range between {0} and {1}\".format(lowest_rating,highest_rating))"
   ]
  },
  {
   "cell_type": "code",
   "execution_count": 5,
   "metadata": {
    "colab": {
     "base_uri": "https://localhost:8080/"
    },
    "id": "k8QF1CSjDEjW",
    "outputId": "b0c3d5cb-d830-4ddd-fcbe-90a1720616b0"
   },
   "outputs": [
    {
     "data": {
      "text/plain": [
       "surprise.dataset.DatasetAutoFolds"
      ]
     },
     "execution_count": 5,
     "metadata": {},
     "output_type": "execute_result"
    }
   ],
   "source": [
    "reader = surprise.Reader(rating_scale = (lowest_rating,highest_rating))\n",
    "data = surprise.Dataset.load_from_df(ratings,reader)\n",
    "type(data)"
   ]
  },
  {
   "cell_type": "markdown",
   "metadata": {
    "id": "qmQ0f9j6eYk3"
   },
   "source": [
    "Tuning for best parameters"
   ]
  },
  {
   "cell_type": "code",
   "execution_count": 6,
   "metadata": {
    "colab": {
     "base_uri": "https://localhost:8080/"
    },
    "id": "xHhdAw7seaf2",
    "outputId": "da89be64-5792-4b05-f64d-5e6d34a68ced"
   },
   "outputs": [
    {
     "name": "stderr",
     "output_type": "stream",
     "text": [
      "[Parallel(n_jobs=-1)]: Using backend LokyBackend with 12 concurrent workers.\n",
      "[Parallel(n_jobs=-1)]: Done   8 tasks      | elapsed:    2.6s\n",
      "[Parallel(n_jobs=-1)]: Done  90 out of  90 | elapsed:   10.2s finished\n"
     ]
    }
   ],
   "source": [
    "from surprise.model_selection import GridSearchCV\n",
    "from surprise.model_selection.split import KFold\n",
    "\n",
    "param_grid = {'lr_all':np.linspace(0.001,1,3), 'reg_all': np.linspace(0.01,0.8,3),\n",
    "              'n_factors':[40,30]}\n",
    "kfold = KFold(random_state=23,n_splits=5,shuffle=True)\n",
    "gs = GridSearchCV(surprise.SVD, param_grid,joblib_verbose =3, measures=['rmse', 'mae'], cv=kfold,n_jobs=-1)\n",
    "gs.fit(data)"
   ]
  },
  {
   "cell_type": "markdown",
   "metadata": {
    "id": "AkcotH-NfaRF"
   },
   "source": [
    "Best Score:"
   ]
  },
  {
   "cell_type": "code",
   "execution_count": 7,
   "metadata": {
    "colab": {
     "base_uri": "https://localhost:8080/"
    },
    "id": "hC_afxJ5fblD",
    "outputId": "65621213-0c13-4efa-f452-f6ff4ece0804"
   },
   "outputs": [
    {
     "name": "stdout",
     "output_type": "stream",
     "text": [
      "0.9603410408355572\n"
     ]
    }
   ],
   "source": [
    "print(gs.best_score['rmse'])"
   ]
  },
  {
   "cell_type": "markdown",
   "metadata": {
    "id": "jzW6go19fdvw"
   },
   "source": [
    "Best Parameter:"
   ]
  },
  {
   "cell_type": "code",
   "execution_count": 8,
   "metadata": {
    "colab": {
     "base_uri": "https://localhost:8080/"
    },
    "id": "J4RJkagYZbI5",
    "outputId": "5f2b125c-43a1-4c9f-e71f-76839175a4ad"
   },
   "outputs": [
    {
     "name": "stdout",
     "output_type": "stream",
     "text": [
      "{'lr_all': 0.001, 'reg_all': 0.01, 'n_factors': 30}\n"
     ]
    }
   ],
   "source": [
    "print(gs.best_params['rmse'])"
   ]
  },
  {
   "cell_type": "markdown",
   "metadata": {
    "id": "G7IZeGpxfy2t"
   },
   "source": [
    "We can now use the algorithm that yields the best rmse:"
   ]
  },
  {
   "cell_type": "code",
   "execution_count": 9,
   "metadata": {
    "colab": {
     "base_uri": "https://localhost:8080/"
    },
    "id": "ssrooRUyfxGI",
    "outputId": "912b14de-42e5-4ff8-8251-4109e3a628f3"
   },
   "outputs": [
    {
     "data": {
      "text/plain": [
       "<surprise.prediction_algorithms.matrix_factorization.SVD at 0x15dab248dd0>"
      ]
     },
     "execution_count": 9,
     "metadata": {},
     "output_type": "execute_result"
    }
   ],
   "source": [
    "algo = gs.best_estimator['rmse']\n",
    "algo.fit(data.build_full_trainset())"
   ]
  },
  {
   "cell_type": "markdown",
   "metadata": {
    "id": "bNckp-CZ_VVM"
   },
   "source": [
    "The recommendations can be generated for any user with the object **algo**."
   ]
  },
  {
   "cell_type": "markdown",
   "metadata": {
    "id": "sX-sLR7jF73M"
   },
   "source": [
    "Total Items:"
   ]
  },
  {
   "cell_type": "code",
   "execution_count": 11,
   "metadata": {
    "colab": {
     "base_uri": "https://localhost:8080/"
    },
    "id": "Wn94bQ00FZ7H",
    "outputId": "c46817f5-b4f0-4d84-ec0e-709c5a4cc38c"
   },
   "outputs": [
    {
     "name": "stdout",
     "output_type": "stream",
     "text": [
      "[ 242  302  377 ... 1637 1630 1641]\n"
     ]
    }
   ],
   "source": [
    "iids = ratings['item_id'].unique()\n",
    "print(iids)"
   ]
  },
  {
   "cell_type": "markdown",
   "metadata": {
    "id": "7SmXr98ngOWY"
   },
   "source": [
    "The list of items rated by user 50:"
   ]
  },
  {
   "cell_type": "code",
   "execution_count": 12,
   "metadata": {
    "colab": {
     "base_uri": "https://localhost:8080/"
    },
    "id": "EabcvwdegOWa",
    "outputId": "5bf5bc9d-3435-49c2-c39c-1cdd619cdba8"
   },
   "outputs": [
    {
     "name": "stdout",
     "output_type": "stream",
     "text": [
      "[ 246  823  253  475 1084  286    9  125  123  325  508  288  319  324\n",
      "  276 1008 1010  268  544   15  327  124  547  100]\n"
     ]
    }
   ],
   "source": [
    "u_iid = ratings[ratings['user_id']==50]['item_id'].unique()\n",
    "print(u_iid)"
   ]
  },
  {
   "cell_type": "markdown",
   "metadata": {
    "id": "beVPEet2gOWa"
   },
   "source": [
    "List of the items not rated by user 50:"
   ]
  },
  {
   "cell_type": "code",
   "execution_count": 13,
   "metadata": {
    "colab": {
     "base_uri": "https://localhost:8080/"
    },
    "id": "lMUN_9bfgOWa",
    "outputId": "ed4d4738-2244-48f9-d93a-cd7f2b0ff5ad"
   },
   "outputs": [
    {
     "name": "stdout",
     "output_type": "stream",
     "text": [
      "[   1    2    3 ... 1680 1681 1682]\n"
     ]
    }
   ],
   "source": [
    "iids_to_predict = np.setdiff1d(iids, u_iid)\n",
    "print(iids_to_predict)"
   ]
  },
  {
   "cell_type": "markdown",
   "metadata": {
    "id": "hhGUerI1gOWa"
   },
   "source": [
    "Extracting the estimated rating from iids_to_predict"
   ]
  },
  {
   "cell_type": "code",
   "execution_count": 14,
   "metadata": {
    "id": "u1Kp0IntgOWb"
   },
   "outputs": [],
   "source": [
    "testset = [[50,iid,0.] for iid in iids_to_predict]\n",
    "predictions = algo.test(testset)"
   ]
  },
  {
   "cell_type": "code",
   "execution_count": 15,
   "metadata": {
    "colab": {
     "base_uri": "https://localhost:8080/"
    },
    "id": "AqX0uHBUgOWb",
    "outputId": "9a238e5a-9c56-44e7-bbb2-e1d002ceff04"
   },
   "outputs": [
    {
     "data": {
      "text/plain": [
       "Prediction(uid=50, iid=1, r_ui=0.0, est=3.847588728522284, details={'was_impossible': False})"
      ]
     },
     "execution_count": 15,
     "metadata": {},
     "output_type": "execute_result"
    }
   ],
   "source": [
    "predictions[0]"
   ]
  },
  {
   "cell_type": "code",
   "execution_count": 16,
   "metadata": {
    "id": "VkCaGLFtgOWb"
   },
   "outputs": [],
   "source": [
    "pred_ratings = np.array([pred.est for pred in predictions])"
   ]
  },
  {
   "cell_type": "markdown",
   "metadata": {
    "id": "KT1nCNLWgOWc"
   },
   "source": [
    "Getting the item with highest expected rating"
   ]
  },
  {
   "cell_type": "code",
   "execution_count": 17,
   "metadata": {
    "colab": {
     "base_uri": "https://localhost:8080/"
    },
    "id": "02tCbB24gOWc",
    "outputId": "3de58d39-931f-4c57-e8cb-87a40f681241"
   },
   "outputs": [
    {
     "name": "stdout",
     "output_type": "stream",
     "text": [
      "Item: 64 is the item with highest expected rating as 4.4758219524942175\n"
     ]
    }
   ],
   "source": [
    "i_max = np.argmax(pred_ratings)\n",
    "print(\"Item:\",iids_to_predict[i_max],\"is the item with highest expected rating as\",pred_ratings[i_max])"
   ]
  },
  {
   "cell_type": "code",
   "execution_count": 18,
   "metadata": {
    "colab": {
     "base_uri": "https://localhost:8080/"
    },
    "id": "xHkxMSDTgOWc",
    "outputId": "a41c8a88-16a1-4285-ccaf-d94831bdc6e0"
   },
   "outputs": [
    {
     "data": {
      "text/html": [
       "<div>\n",
       "<style scoped>\n",
       "    .dataframe tbody tr th:only-of-type {\n",
       "        vertical-align: middle;\n",
       "    }\n",
       "\n",
       "    .dataframe tbody tr th {\n",
       "        vertical-align: top;\n",
       "    }\n",
       "\n",
       "    .dataframe thead th {\n",
       "        text-align: right;\n",
       "    }\n",
       "</style>\n",
       "<table border=\"1\" class=\"dataframe\">\n",
       "  <thead>\n",
       "    <tr style=\"text-align: right;\">\n",
       "      <th></th>\n",
       "      <th>Item_ID</th>\n",
       "      <th>Exp_Rating</th>\n",
       "    </tr>\n",
       "  </thead>\n",
       "  <tbody>\n",
       "    <tr>\n",
       "      <th>61</th>\n",
       "      <td>64</td>\n",
       "      <td>4.475822</td>\n",
       "    </tr>\n",
       "    <tr>\n",
       "      <th>305</th>\n",
       "      <td>318</td>\n",
       "      <td>4.465052</td>\n",
       "    </tr>\n",
       "    <tr>\n",
       "      <th>162</th>\n",
       "      <td>169</td>\n",
       "      <td>4.447652</td>\n",
       "    </tr>\n",
       "    <tr>\n",
       "      <th>391</th>\n",
       "      <td>408</td>\n",
       "      <td>4.431967</td>\n",
       "    </tr>\n",
       "    <tr>\n",
       "      <th>10</th>\n",
       "      <td>12</td>\n",
       "      <td>4.418889</td>\n",
       "    </tr>\n",
       "    <tr>\n",
       "      <th>582</th>\n",
       "      <td>603</td>\n",
       "      <td>4.415678</td>\n",
       "    </tr>\n",
       "    <tr>\n",
       "      <th>47</th>\n",
       "      <td>50</td>\n",
       "      <td>4.396456</td>\n",
       "    </tr>\n",
       "    <tr>\n",
       "      <th>465</th>\n",
       "      <td>483</td>\n",
       "      <td>4.372132</td>\n",
       "    </tr>\n",
       "    <tr>\n",
       "      <th>496</th>\n",
       "      <td>515</td>\n",
       "      <td>4.351063</td>\n",
       "    </tr>\n",
       "    <tr>\n",
       "      <th>262</th>\n",
       "      <td>272</td>\n",
       "      <td>4.334147</td>\n",
       "    </tr>\n",
       "  </tbody>\n",
       "</table>\n",
       "</div>"
      ],
      "text/plain": [
       "     Item_ID  Exp_Rating\n",
       "61        64    4.475822\n",
       "305      318    4.465052\n",
       "162      169    4.447652\n",
       "391      408    4.431967\n",
       "10        12    4.418889\n",
       "582      603    4.415678\n",
       "47        50    4.396456\n",
       "465      483    4.372132\n",
       "496      515    4.351063\n",
       "262      272    4.334147"
      ]
     },
     "execution_count": 18,
     "metadata": {},
     "output_type": "execute_result"
    }
   ],
   "source": [
    "exp_ratings = pd.DataFrame({'Item_ID': iids_to_predict, 'Exp_Rating':pred_ratings})\n",
    "exp_ratings.sort_values(by=['Exp_Rating','Item_ID'], ascending=[False, True], inplace=True)\n",
    "exp_ratings.head(10)"
   ]
  },
  {
   "cell_type": "code",
   "execution_count": null,
   "metadata": {},
   "outputs": [],
   "source": []
  }
 ],
 "metadata": {
  "colab": {
   "provenance": []
  },
  "kernelspec": {
   "display_name": "Python 3 (ipykernel)",
   "language": "python",
   "name": "python3"
  },
  "language_info": {
   "codemirror_mode": {
    "name": "ipython",
    "version": 3
   },
   "file_extension": ".py",
   "mimetype": "text/x-python",
   "name": "python",
   "nbconvert_exporter": "python",
   "pygments_lexer": "ipython3",
   "version": "3.11.7"
  }
 },
 "nbformat": 4,
 "nbformat_minor": 4
}
