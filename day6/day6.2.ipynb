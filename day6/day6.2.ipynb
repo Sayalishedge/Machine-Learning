{
 "cells": [
  {
   "cell_type": "code",
   "execution_count": 1,
   "id": "cdc9b296",
   "metadata": {},
   "outputs": [],
   "source": [
    "import pandas as pd\n",
    "import numpy as np"
   ]
  },
  {
   "cell_type": "code",
   "execution_count": 4,
   "id": "14b274a8",
   "metadata": {},
   "outputs": [],
   "source": [
    "a = np.array([-34000,98,0,0.34,-8765,98])\n",
    "def sigmoid(x):\n",
    "    return(1/(1+np.exp(-x)))\n"
   ]
  },
  {
   "cell_type": "code",
   "execution_count": 5,
   "id": "890a5139",
   "metadata": {},
   "outputs": [
    {
     "name": "stdout",
     "output_type": "stream",
     "text": [
      "[0.         1.         0.5        0.58419052 0.         1.        ]\n"
     ]
    },
    {
     "name": "stderr",
     "output_type": "stream",
     "text": [
      "C:\\Users\\dbda\\AppData\\Local\\Temp\\ipykernel_16176\\3790111569.py:3: RuntimeWarning: overflow encountered in exp\n",
      "  return(1/(1+np.exp(-x)))\n"
     ]
    }
   ],
   "source": [
    "print(sigmoid(a))"
   ]
  },
  {
   "cell_type": "code",
   "execution_count": null,
   "id": "aa4bf317",
   "metadata": {},
   "outputs": [],
   "source": []
  },
  {
   "cell_type": "code",
   "execution_count": null,
   "id": "0ec398b7",
   "metadata": {},
   "outputs": [],
   "source": []
  }
 ],
 "metadata": {
  "kernelspec": {
   "display_name": "Python 3 (ipykernel)",
   "language": "python",
   "name": "python3"
  },
  "language_info": {
   "codemirror_mode": {
    "name": "ipython",
    "version": 3
   },
   "file_extension": ".py",
   "mimetype": "text/x-python",
   "name": "python",
   "nbconvert_exporter": "python",
   "pygments_lexer": "ipython3",
   "version": "3.11.5"
  }
 },
 "nbformat": 4,
 "nbformat_minor": 5
}
