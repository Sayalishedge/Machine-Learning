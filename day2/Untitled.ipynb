{
 "cells": [
  {
   "cell_type": "code",
   "execution_count": 1,
   "id": "ab7856ab",
   "metadata": {},
   "outputs": [],
   "source": [
    "import pandas as pd\n",
    "import os\n",
    "os.chdir(\"F:\\PML\\Cases\")\n",
    "from sklearn.linear_model import LinearRegression \n",
    "from sklearn.metrics import mean_squared_error, r2_score\n",
    "from sklearn.model_selection import train_test_split\n",
    "from sklearn.preprocessing import PolynomialFeatures\n",
    "from sklearn.pipeline import Pipeline\n",
    "import numpy as np"
   ]
  },
  {
   "cell_type": "code",
   "execution_count": 2,
   "id": "81f00973",
   "metadata": {},
   "outputs": [],
   "source": [
    "chem = pd.read_csv('Chemical Process Data/ChemicalProcess.csv')"
   ]
  },
  {
   "cell_type": "code",
   "execution_count": 3,
   "id": "6d108b4b",
   "metadata": {},
   "outputs": [
    {
     "data": {
      "text/html": [
       "<div>\n",
       "<style scoped>\n",
       "    .dataframe tbody tr th:only-of-type {\n",
       "        vertical-align: middle;\n",
       "    }\n",
       "\n",
       "    .dataframe tbody tr th {\n",
       "        vertical-align: top;\n",
       "    }\n",
       "\n",
       "    .dataframe thead th {\n",
       "        text-align: right;\n",
       "    }\n",
       "</style>\n",
       "<table border=\"1\" class=\"dataframe\">\n",
       "  <thead>\n",
       "    <tr style=\"text-align: right;\">\n",
       "      <th></th>\n",
       "      <th>Yield</th>\n",
       "      <th>BiologicalMaterial01</th>\n",
       "      <th>BiologicalMaterial02</th>\n",
       "      <th>BiologicalMaterial03</th>\n",
       "      <th>BiologicalMaterial04</th>\n",
       "      <th>BiologicalMaterial05</th>\n",
       "      <th>BiologicalMaterial06</th>\n",
       "      <th>BiologicalMaterial07</th>\n",
       "      <th>BiologicalMaterial08</th>\n",
       "      <th>BiologicalMaterial09</th>\n",
       "      <th>...</th>\n",
       "      <th>ManufacturingProcess36</th>\n",
       "      <th>ManufacturingProcess37</th>\n",
       "      <th>ManufacturingProcess38</th>\n",
       "      <th>ManufacturingProcess39</th>\n",
       "      <th>ManufacturingProcess40</th>\n",
       "      <th>ManufacturingProcess41</th>\n",
       "      <th>ManufacturingProcess42</th>\n",
       "      <th>ManufacturingProcess43</th>\n",
       "      <th>ManufacturingProcess44</th>\n",
       "      <th>ManufacturingProcess45</th>\n",
       "    </tr>\n",
       "  </thead>\n",
       "  <tbody>\n",
       "    <tr>\n",
       "      <th>0</th>\n",
       "      <td>38.00</td>\n",
       "      <td>6.25</td>\n",
       "      <td>49.58</td>\n",
       "      <td>56.97</td>\n",
       "      <td>12.74</td>\n",
       "      <td>19.51</td>\n",
       "      <td>43.73</td>\n",
       "      <td>100.0</td>\n",
       "      <td>16.66</td>\n",
       "      <td>11.44</td>\n",
       "      <td>...</td>\n",
       "      <td>0.019</td>\n",
       "      <td>0.5</td>\n",
       "      <td>3</td>\n",
       "      <td>7.2</td>\n",
       "      <td>NaN</td>\n",
       "      <td>NaN</td>\n",
       "      <td>11.6</td>\n",
       "      <td>3.0</td>\n",
       "      <td>1.8</td>\n",
       "      <td>2.4</td>\n",
       "    </tr>\n",
       "    <tr>\n",
       "      <th>1</th>\n",
       "      <td>42.44</td>\n",
       "      <td>8.01</td>\n",
       "      <td>60.97</td>\n",
       "      <td>67.48</td>\n",
       "      <td>14.65</td>\n",
       "      <td>19.36</td>\n",
       "      <td>53.14</td>\n",
       "      <td>100.0</td>\n",
       "      <td>19.04</td>\n",
       "      <td>12.55</td>\n",
       "      <td>...</td>\n",
       "      <td>0.019</td>\n",
       "      <td>2.0</td>\n",
       "      <td>2</td>\n",
       "      <td>7.2</td>\n",
       "      <td>0.1</td>\n",
       "      <td>0.15</td>\n",
       "      <td>11.1</td>\n",
       "      <td>0.9</td>\n",
       "      <td>1.9</td>\n",
       "      <td>2.2</td>\n",
       "    </tr>\n",
       "    <tr>\n",
       "      <th>2</th>\n",
       "      <td>42.03</td>\n",
       "      <td>8.01</td>\n",
       "      <td>60.97</td>\n",
       "      <td>67.48</td>\n",
       "      <td>14.65</td>\n",
       "      <td>19.36</td>\n",
       "      <td>53.14</td>\n",
       "      <td>100.0</td>\n",
       "      <td>19.04</td>\n",
       "      <td>12.55</td>\n",
       "      <td>...</td>\n",
       "      <td>0.018</td>\n",
       "      <td>0.7</td>\n",
       "      <td>2</td>\n",
       "      <td>7.2</td>\n",
       "      <td>0.0</td>\n",
       "      <td>0.00</td>\n",
       "      <td>12.0</td>\n",
       "      <td>1.0</td>\n",
       "      <td>1.8</td>\n",
       "      <td>2.3</td>\n",
       "    </tr>\n",
       "    <tr>\n",
       "      <th>3</th>\n",
       "      <td>41.42</td>\n",
       "      <td>8.01</td>\n",
       "      <td>60.97</td>\n",
       "      <td>67.48</td>\n",
       "      <td>14.65</td>\n",
       "      <td>19.36</td>\n",
       "      <td>53.14</td>\n",
       "      <td>100.0</td>\n",
       "      <td>19.04</td>\n",
       "      <td>12.55</td>\n",
       "      <td>...</td>\n",
       "      <td>0.018</td>\n",
       "      <td>1.2</td>\n",
       "      <td>2</td>\n",
       "      <td>7.2</td>\n",
       "      <td>0.0</td>\n",
       "      <td>0.00</td>\n",
       "      <td>10.6</td>\n",
       "      <td>1.1</td>\n",
       "      <td>1.8</td>\n",
       "      <td>2.1</td>\n",
       "    </tr>\n",
       "    <tr>\n",
       "      <th>4</th>\n",
       "      <td>42.49</td>\n",
       "      <td>7.47</td>\n",
       "      <td>63.33</td>\n",
       "      <td>72.25</td>\n",
       "      <td>14.02</td>\n",
       "      <td>17.91</td>\n",
       "      <td>54.66</td>\n",
       "      <td>100.0</td>\n",
       "      <td>18.22</td>\n",
       "      <td>12.80</td>\n",
       "      <td>...</td>\n",
       "      <td>0.017</td>\n",
       "      <td>0.2</td>\n",
       "      <td>2</td>\n",
       "      <td>7.3</td>\n",
       "      <td>0.0</td>\n",
       "      <td>0.00</td>\n",
       "      <td>11.0</td>\n",
       "      <td>1.1</td>\n",
       "      <td>1.7</td>\n",
       "      <td>2.1</td>\n",
       "    </tr>\n",
       "  </tbody>\n",
       "</table>\n",
       "<p>5 rows × 58 columns</p>\n",
       "</div>"
      ],
      "text/plain": [
       "   Yield  BiologicalMaterial01  BiologicalMaterial02  BiologicalMaterial03  \\\n",
       "0  38.00                  6.25                 49.58                 56.97   \n",
       "1  42.44                  8.01                 60.97                 67.48   \n",
       "2  42.03                  8.01                 60.97                 67.48   \n",
       "3  41.42                  8.01                 60.97                 67.48   \n",
       "4  42.49                  7.47                 63.33                 72.25   \n",
       "\n",
       "   BiologicalMaterial04  BiologicalMaterial05  BiologicalMaterial06  \\\n",
       "0                 12.74                 19.51                 43.73   \n",
       "1                 14.65                 19.36                 53.14   \n",
       "2                 14.65                 19.36                 53.14   \n",
       "3                 14.65                 19.36                 53.14   \n",
       "4                 14.02                 17.91                 54.66   \n",
       "\n",
       "   BiologicalMaterial07  BiologicalMaterial08  BiologicalMaterial09  ...  \\\n",
       "0                 100.0                 16.66                 11.44  ...   \n",
       "1                 100.0                 19.04                 12.55  ...   \n",
       "2                 100.0                 19.04                 12.55  ...   \n",
       "3                 100.0                 19.04                 12.55  ...   \n",
       "4                 100.0                 18.22                 12.80  ...   \n",
       "\n",
       "   ManufacturingProcess36  ManufacturingProcess37  ManufacturingProcess38  \\\n",
       "0                   0.019                     0.5                       3   \n",
       "1                   0.019                     2.0                       2   \n",
       "2                   0.018                     0.7                       2   \n",
       "3                   0.018                     1.2                       2   \n",
       "4                   0.017                     0.2                       2   \n",
       "\n",
       "   ManufacturingProcess39  ManufacturingProcess40  ManufacturingProcess41  \\\n",
       "0                     7.2                     NaN                     NaN   \n",
       "1                     7.2                     0.1                    0.15   \n",
       "2                     7.2                     0.0                    0.00   \n",
       "3                     7.2                     0.0                    0.00   \n",
       "4                     7.3                     0.0                    0.00   \n",
       "\n",
       "   ManufacturingProcess42  ManufacturingProcess43  ManufacturingProcess44  \\\n",
       "0                    11.6                     3.0                     1.8   \n",
       "1                    11.1                     0.9                     1.9   \n",
       "2                    12.0                     1.0                     1.8   \n",
       "3                    10.6                     1.1                     1.8   \n",
       "4                    11.0                     1.1                     1.7   \n",
       "\n",
       "   ManufacturingProcess45  \n",
       "0                     2.4  \n",
       "1                     2.2  \n",
       "2                     2.3  \n",
       "3                     2.1  \n",
       "4                     2.1  \n",
       "\n",
       "[5 rows x 58 columns]"
      ]
     },
     "execution_count": 3,
     "metadata": {},
     "output_type": "execute_result"
    }
   ],
   "source": [
    "chem.head()"
   ]
  },
  {
   "cell_type": "code",
   "execution_count": 4,
   "id": "c21cf037",
   "metadata": {},
   "outputs": [
    {
     "data": {
      "text/plain": [
       "Yield                      0\n",
       "BiologicalMaterial01       0\n",
       "BiologicalMaterial02       0\n",
       "BiologicalMaterial03       0\n",
       "BiologicalMaterial04       0\n",
       "BiologicalMaterial05       0\n",
       "BiologicalMaterial06       0\n",
       "BiologicalMaterial07       0\n",
       "BiologicalMaterial08       0\n",
       "BiologicalMaterial09       0\n",
       "BiologicalMaterial10       0\n",
       "BiologicalMaterial11       0\n",
       "BiologicalMaterial12       0\n",
       "ManufacturingProcess01     1\n",
       "ManufacturingProcess02     3\n",
       "ManufacturingProcess03    15\n",
       "ManufacturingProcess04     1\n",
       "ManufacturingProcess05     1\n",
       "ManufacturingProcess06     2\n",
       "ManufacturingProcess07     1\n",
       "ManufacturingProcess08     1\n",
       "ManufacturingProcess09     0\n",
       "ManufacturingProcess10     9\n",
       "ManufacturingProcess11    10\n",
       "ManufacturingProcess12     1\n",
       "ManufacturingProcess13     0\n",
       "ManufacturingProcess14     1\n",
       "ManufacturingProcess15     0\n",
       "ManufacturingProcess16     0\n",
       "ManufacturingProcess17     0\n",
       "ManufacturingProcess18     0\n",
       "ManufacturingProcess19     0\n",
       "ManufacturingProcess20     0\n",
       "ManufacturingProcess21     0\n",
       "ManufacturingProcess22     1\n",
       "ManufacturingProcess23     1\n",
       "ManufacturingProcess24     1\n",
       "ManufacturingProcess25     5\n",
       "ManufacturingProcess26     5\n",
       "ManufacturingProcess27     5\n",
       "ManufacturingProcess28     5\n",
       "ManufacturingProcess29     5\n",
       "ManufacturingProcess30     5\n",
       "ManufacturingProcess31     5\n",
       "ManufacturingProcess32     0\n",
       "ManufacturingProcess33     5\n",
       "ManufacturingProcess34     5\n",
       "ManufacturingProcess35     5\n",
       "ManufacturingProcess36     5\n",
       "ManufacturingProcess37     0\n",
       "ManufacturingProcess38     0\n",
       "ManufacturingProcess39     0\n",
       "ManufacturingProcess40     1\n",
       "ManufacturingProcess41     1\n",
       "ManufacturingProcess42     0\n",
       "ManufacturingProcess43     0\n",
       "ManufacturingProcess44     0\n",
       "ManufacturingProcess45     0\n",
       "dtype: int64"
      ]
     },
     "execution_count": 4,
     "metadata": {},
     "output_type": "execute_result"
    }
   ],
   "source": [
    "chem.isnull().sum()"
   ]
  },
  {
   "cell_type": "code",
   "execution_count": 5,
   "id": "9512536b",
   "metadata": {},
   "outputs": [
    {
     "data": {
      "text/plain": [
       "Index(['Yield', 'BiologicalMaterial01', 'BiologicalMaterial02',\n",
       "       'BiologicalMaterial03', 'BiologicalMaterial04', 'BiologicalMaterial05',\n",
       "       'BiologicalMaterial06', 'BiologicalMaterial07', 'BiologicalMaterial08',\n",
       "       'BiologicalMaterial09', 'BiologicalMaterial10', 'BiologicalMaterial11',\n",
       "       'BiologicalMaterial12', 'ManufacturingProcess01',\n",
       "       'ManufacturingProcess02', 'ManufacturingProcess03',\n",
       "       'ManufacturingProcess04', 'ManufacturingProcess05',\n",
       "       'ManufacturingProcess06', 'ManufacturingProcess07',\n",
       "       'ManufacturingProcess08', 'ManufacturingProcess09',\n",
       "       'ManufacturingProcess10', 'ManufacturingProcess11',\n",
       "       'ManufacturingProcess12', 'ManufacturingProcess13',\n",
       "       'ManufacturingProcess14', 'ManufacturingProcess15',\n",
       "       'ManufacturingProcess16', 'ManufacturingProcess17',\n",
       "       'ManufacturingProcess18', 'ManufacturingProcess19',\n",
       "       'ManufacturingProcess20', 'ManufacturingProcess21',\n",
       "       'ManufacturingProcess22', 'ManufacturingProcess23',\n",
       "       'ManufacturingProcess24', 'ManufacturingProcess25',\n",
       "       'ManufacturingProcess26', 'ManufacturingProcess27',\n",
       "       'ManufacturingProcess28', 'ManufacturingProcess29',\n",
       "       'ManufacturingProcess30', 'ManufacturingProcess31',\n",
       "       'ManufacturingProcess32', 'ManufacturingProcess33',\n",
       "       'ManufacturingProcess34', 'ManufacturingProcess35',\n",
       "       'ManufacturingProcess36', 'ManufacturingProcess37',\n",
       "       'ManufacturingProcess38', 'ManufacturingProcess39',\n",
       "       'ManufacturingProcess40', 'ManufacturingProcess41',\n",
       "       'ManufacturingProcess42', 'ManufacturingProcess43',\n",
       "       'ManufacturingProcess44', 'ManufacturingProcess45'],\n",
       "      dtype='object')"
      ]
     },
     "execution_count": 5,
     "metadata": {},
     "output_type": "execute_result"
    }
   ],
   "source": [
    "chem.columns"
   ]
  },
  {
   "cell_type": "markdown",
   "id": "001cc661",
   "metadata": {},
   "source": [
    "#### Using Simple Imputer to fill na with mean"
   ]
  },
  {
   "cell_type": "code",
   "execution_count": 6,
   "id": "0e4928f8",
   "metadata": {},
   "outputs": [],
   "source": [
    "from sklearn.impute import SimpleImputer\n",
    "imp = SimpleImputer(strategy='mean').set_output(transform='pandas')"
   ]
  },
  {
   "cell_type": "code",
   "execution_count": 7,
   "id": "aa59cf4e",
   "metadata": {},
   "outputs": [
    {
     "name": "stdout",
     "output_type": "stream",
     "text": [
      "<class 'pandas.core.frame.DataFrame'>\n"
     ]
    }
   ],
   "source": [
    "imputed = imp.fit_transform(chem)\n",
    "print(type(imputed))"
   ]
  },
  {
   "cell_type": "code",
   "execution_count": 8,
   "id": "d2ba622f",
   "metadata": {},
   "outputs": [
    {
     "data": {
      "text/plain": [
       "Yield                     0\n",
       "BiologicalMaterial01      0\n",
       "BiologicalMaterial02      0\n",
       "BiologicalMaterial03      0\n",
       "BiologicalMaterial04      0\n",
       "BiologicalMaterial05      0\n",
       "BiologicalMaterial06      0\n",
       "BiologicalMaterial07      0\n",
       "BiologicalMaterial08      0\n",
       "BiologicalMaterial09      0\n",
       "BiologicalMaterial10      0\n",
       "BiologicalMaterial11      0\n",
       "BiologicalMaterial12      0\n",
       "ManufacturingProcess01    0\n",
       "ManufacturingProcess02    0\n",
       "ManufacturingProcess03    0\n",
       "ManufacturingProcess04    0\n",
       "ManufacturingProcess05    0\n",
       "ManufacturingProcess06    0\n",
       "ManufacturingProcess07    0\n",
       "ManufacturingProcess08    0\n",
       "ManufacturingProcess09    0\n",
       "ManufacturingProcess10    0\n",
       "ManufacturingProcess11    0\n",
       "ManufacturingProcess12    0\n",
       "ManufacturingProcess13    0\n",
       "ManufacturingProcess14    0\n",
       "ManufacturingProcess15    0\n",
       "ManufacturingProcess16    0\n",
       "ManufacturingProcess17    0\n",
       "ManufacturingProcess18    0\n",
       "ManufacturingProcess19    0\n",
       "ManufacturingProcess20    0\n",
       "ManufacturingProcess21    0\n",
       "ManufacturingProcess22    0\n",
       "ManufacturingProcess23    0\n",
       "ManufacturingProcess24    0\n",
       "ManufacturingProcess25    0\n",
       "ManufacturingProcess26    0\n",
       "ManufacturingProcess27    0\n",
       "ManufacturingProcess28    0\n",
       "ManufacturingProcess29    0\n",
       "ManufacturingProcess30    0\n",
       "ManufacturingProcess31    0\n",
       "ManufacturingProcess32    0\n",
       "ManufacturingProcess33    0\n",
       "ManufacturingProcess34    0\n",
       "ManufacturingProcess35    0\n",
       "ManufacturingProcess36    0\n",
       "ManufacturingProcess37    0\n",
       "ManufacturingProcess38    0\n",
       "ManufacturingProcess39    0\n",
       "ManufacturingProcess40    0\n",
       "ManufacturingProcess41    0\n",
       "ManufacturingProcess42    0\n",
       "ManufacturingProcess43    0\n",
       "ManufacturingProcess44    0\n",
       "ManufacturingProcess45    0\n",
       "dtype: int64"
      ]
     },
     "execution_count": 8,
     "metadata": {},
     "output_type": "execute_result"
    }
   ],
   "source": [
    "imputed.isnull().sum()"
   ]
  },
  {
   "cell_type": "code",
   "execution_count": 9,
   "id": "73d66fe3",
   "metadata": {},
   "outputs": [],
   "source": [
    "X = imputed.drop('Yield',axis=1)\n",
    "y = imputed['Yield']"
   ]
  },
  {
   "cell_type": "code",
   "execution_count": 10,
   "id": "7569038a",
   "metadata": {},
   "outputs": [],
   "source": [
    "X_train, X_test, y_train, y_test = train_test_split(X,y, test_size=0.30,random_state=23)\n"
   ]
  },
  {
   "cell_type": "code",
   "execution_count": 11,
   "id": "30bf216d",
   "metadata": {},
   "outputs": [
    {
     "name": "stdout",
     "output_type": "stream",
     "text": [
      "0.40718168272734634\n"
     ]
    }
   ],
   "source": [
    "lr = LinearRegression()\n",
    "lr.fit(X_train,y_train)\n",
    "ycap = lr.predict(X_test)\n",
    "print(r2_score(y_test, ycap))"
   ]
  },
  {
   "cell_type": "code",
   "execution_count": 12,
   "id": "6b14acde",
   "metadata": {},
   "outputs": [
    {
     "name": "stdout",
     "output_type": "stream",
     "text": [
      "-13.868147288381332\n"
     ]
    }
   ],
   "source": [
    "poly = PolynomialFeatures(degree=2)\n",
    "lr = LinearRegression()\n",
    "pipe = Pipeline([('Poly',poly),('LR',lr)])\n",
    "pipe.fit(X_train,y_train)\n",
    "ycap = pipe.predict(X_test)\n",
    "print(r2_score(y_test, ycap))"
   ]
  },
  {
   "cell_type": "code",
   "execution_count": 13,
   "id": "c4af52c3",
   "metadata": {},
   "outputs": [
    {
     "name": "stdout",
     "output_type": "stream",
     "text": [
      "-13.31336422283989\n"
     ]
    }
   ],
   "source": [
    "poly = PolynomialFeatures(degree=3)\n",
    "lr = LinearRegression()\n",
    "pipe = Pipeline([('Poly',poly),('LR',lr)])\n",
    "pipe.fit(X_train,y_train)\n",
    "ycap = pipe.predict(X_test)\n",
    "print(r2_score(y_test, ycap))"
   ]
  },
  {
   "cell_type": "markdown",
   "id": "b2ad41a0",
   "metadata": {},
   "source": [
    "#### using median imputation"
   ]
  },
  {
   "cell_type": "code",
   "execution_count": 14,
   "id": "eadd893b",
   "metadata": {},
   "outputs": [],
   "source": [
    "from sklearn.impute import SimpleImputer\n",
    "imp = SimpleImputer(strategy='median').set_output(transform='pandas')"
   ]
  },
  {
   "cell_type": "code",
   "execution_count": 15,
   "id": "3dd95e35",
   "metadata": {},
   "outputs": [
    {
     "name": "stdout",
     "output_type": "stream",
     "text": [
      "<class 'pandas.core.frame.DataFrame'>\n"
     ]
    }
   ],
   "source": [
    "imputed = imp.fit_transform(chem)\n",
    "print(type(imputed))"
   ]
  },
  {
   "cell_type": "code",
   "execution_count": 16,
   "id": "3f65ac4a",
   "metadata": {},
   "outputs": [
    {
     "data": {
      "text/plain": [
       "Yield                     0\n",
       "BiologicalMaterial01      0\n",
       "BiologicalMaterial02      0\n",
       "BiologicalMaterial03      0\n",
       "BiologicalMaterial04      0\n",
       "BiologicalMaterial05      0\n",
       "BiologicalMaterial06      0\n",
       "BiologicalMaterial07      0\n",
       "BiologicalMaterial08      0\n",
       "BiologicalMaterial09      0\n",
       "BiologicalMaterial10      0\n",
       "BiologicalMaterial11      0\n",
       "BiologicalMaterial12      0\n",
       "ManufacturingProcess01    0\n",
       "ManufacturingProcess02    0\n",
       "ManufacturingProcess03    0\n",
       "ManufacturingProcess04    0\n",
       "ManufacturingProcess05    0\n",
       "ManufacturingProcess06    0\n",
       "ManufacturingProcess07    0\n",
       "ManufacturingProcess08    0\n",
       "ManufacturingProcess09    0\n",
       "ManufacturingProcess10    0\n",
       "ManufacturingProcess11    0\n",
       "ManufacturingProcess12    0\n",
       "ManufacturingProcess13    0\n",
       "ManufacturingProcess14    0\n",
       "ManufacturingProcess15    0\n",
       "ManufacturingProcess16    0\n",
       "ManufacturingProcess17    0\n",
       "ManufacturingProcess18    0\n",
       "ManufacturingProcess19    0\n",
       "ManufacturingProcess20    0\n",
       "ManufacturingProcess21    0\n",
       "ManufacturingProcess22    0\n",
       "ManufacturingProcess23    0\n",
       "ManufacturingProcess24    0\n",
       "ManufacturingProcess25    0\n",
       "ManufacturingProcess26    0\n",
       "ManufacturingProcess27    0\n",
       "ManufacturingProcess28    0\n",
       "ManufacturingProcess29    0\n",
       "ManufacturingProcess30    0\n",
       "ManufacturingProcess31    0\n",
       "ManufacturingProcess32    0\n",
       "ManufacturingProcess33    0\n",
       "ManufacturingProcess34    0\n",
       "ManufacturingProcess35    0\n",
       "ManufacturingProcess36    0\n",
       "ManufacturingProcess37    0\n",
       "ManufacturingProcess38    0\n",
       "ManufacturingProcess39    0\n",
       "ManufacturingProcess40    0\n",
       "ManufacturingProcess41    0\n",
       "ManufacturingProcess42    0\n",
       "ManufacturingProcess43    0\n",
       "ManufacturingProcess44    0\n",
       "ManufacturingProcess45    0\n",
       "dtype: int64"
      ]
     },
     "execution_count": 16,
     "metadata": {},
     "output_type": "execute_result"
    }
   ],
   "source": [
    "imputed.isnull().sum()"
   ]
  },
  {
   "cell_type": "code",
   "execution_count": 17,
   "id": "685402b4",
   "metadata": {},
   "outputs": [],
   "source": [
    "X = imputed.drop('Yield',axis=1)\n",
    "y = imputed['Yield']"
   ]
  },
  {
   "cell_type": "code",
   "execution_count": 18,
   "id": "baf0166e",
   "metadata": {},
   "outputs": [],
   "source": [
    "X_train, X_test, y_train, y_test = train_test_split(X,y, test_size=0.30,random_state=23)"
   ]
  },
  {
   "cell_type": "code",
   "execution_count": 19,
   "id": "dd3313bc",
   "metadata": {},
   "outputs": [
    {
     "name": "stdout",
     "output_type": "stream",
     "text": [
      "0.394798259786899\n"
     ]
    }
   ],
   "source": [
    "lr = LinearRegression()\n",
    "lr.fit(X_train,y_train)\n",
    "ycap = lr.predict(X_test)\n",
    "print(r2_score(y_test, ycap))"
   ]
  },
  {
   "cell_type": "code",
   "execution_count": 20,
   "id": "1133dc3f",
   "metadata": {},
   "outputs": [
    {
     "name": "stdout",
     "output_type": "stream",
     "text": [
      "-13.252078970949167\n"
     ]
    }
   ],
   "source": [
    "poly = PolynomialFeatures(degree=2)\n",
    "lr = LinearRegression()\n",
    "pipe = Pipeline([('Poly',poly),('LR',lr)])\n",
    "pipe.fit(X_train,y_train)\n",
    "ycap = pipe.predict(X_test)\n",
    "print(r2_score(y_test, ycap))"
   ]
  },
  {
   "cell_type": "code",
   "execution_count": 21,
   "id": "46daf561",
   "metadata": {},
   "outputs": [
    {
     "name": "stdout",
     "output_type": "stream",
     "text": [
      "-12.217774189187276\n"
     ]
    }
   ],
   "source": [
    "poly = PolynomialFeatures(degree=3)\n",
    "lr = LinearRegression()\n",
    "pipe = Pipeline([('Poly',poly),('LR',lr)])\n",
    "pipe.fit(X_train,y_train)\n",
    "ycap = pipe.predict(X_test)\n",
    "print(r2_score(y_test, ycap))"
   ]
  },
  {
   "cell_type": "code",
   "execution_count": null,
   "id": "7b5a80b0",
   "metadata": {},
   "outputs": [],
   "source": []
  }
 ],
 "metadata": {
  "kernelspec": {
   "display_name": "Python 3 (ipykernel)",
   "language": "python",
   "name": "python3"
  },
  "language_info": {
   "codemirror_mode": {
    "name": "ipython",
    "version": 3
   },
   "file_extension": ".py",
   "mimetype": "text/x-python",
   "name": "python",
   "nbconvert_exporter": "python",
   "pygments_lexer": "ipython3",
   "version": "3.11.5"
  }
 },
 "nbformat": 4,
 "nbformat_minor": 5
}
