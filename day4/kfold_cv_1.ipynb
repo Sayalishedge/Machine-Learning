{
 "cells": [
  {
   "cell_type": "code",
   "execution_count": 1,
   "id": "39ba3b36",
   "metadata": {},
   "outputs": [],
   "source": [
    "import pandas as pd\n",
    "import os\n",
    "os.chdir(\"F:\\PML\\Datasets\")\n",
    "from sklearn.linear_model import LinearRegression \n",
    "from sklearn.metrics import mean_squared_error, r2_score\n",
    "from sklearn.model_selection import KFold, cross_val_score\n",
    "from sklearn.preprocessing import PolynomialFeatures"
   ]
  },
  {
   "cell_type": "code",
   "execution_count": 2,
   "id": "0cb727fa",
   "metadata": {},
   "outputs": [
    {
     "data": {
      "text/plain": [
       "(506, 14)"
      ]
     },
     "execution_count": 2,
     "metadata": {},
     "output_type": "execute_result"
    }
   ],
   "source": [
    "boston = pd.read_csv(\"Boston.csv\")\n",
    "boston.shape"
   ]
  },
  {
   "cell_type": "code",
   "execution_count": 3,
   "id": "7a4e6ac1",
   "metadata": {},
   "outputs": [],
   "source": [
    "X = boston.drop('medv', axis=1)\n",
    "y = boston['medv']"
   ]
  },
  {
   "cell_type": "code",
   "execution_count": 4,
   "id": "850d5c55",
   "metadata": {},
   "outputs": [
    {
     "data": {
      "text/plain": [
       "array([0.74514306, 0.69363489, 0.73264725, 0.68377809, 0.73767041])"
      ]
     },
     "execution_count": 4,
     "metadata": {},
     "output_type": "execute_result"
    }
   ],
   "source": [
    "lr = LinearRegression()\n",
    "kfold = KFold(n_splits=5, shuffle=True, random_state=23)\n",
    "results = cross_val_score(lr, X, y, cv=kfold)\n",
    "results"
   ]
  },
  {
   "cell_type": "code",
   "execution_count": 5,
   "id": "a738538c",
   "metadata": {},
   "outputs": [
    {
     "data": {
      "text/plain": [
       "0.718574739923582"
      ]
     },
     "execution_count": 5,
     "metadata": {},
     "output_type": "execute_result"
    }
   ],
   "source": [
    "results.mean()"
   ]
  },
  {
   "cell_type": "code",
   "execution_count": 6,
   "id": "a8e2d4ce",
   "metadata": {},
   "outputs": [
    {
     "data": {
      "text/plain": [
       "{2: 0.8000466873059098, 3: -9071.290696136934, 4: -1978.9579617225777}"
      ]
     },
     "execution_count": 6,
     "metadata": {},
     "output_type": "execute_result"
    }
   ],
   "source": [
    "from sklearn.pipeline import Pipeline\n",
    "\n",
    "\n",
    "dgs = [2,3,4]\n",
    "scores = []\n",
    "for d in dgs:\n",
    "    poly = PolynomialFeatures(degree=d)\n",
    "    lr = LinearRegression()\n",
    "    pipe = Pipeline([('poly',poly),('LR',lr)])\n",
    "    kfold=KFold(n_splits=5, shuffle=True, random_state=23)\n",
    "    results=cross_val_score(pipe,X,y,cv=kfold)\n",
    "    scores.append(results.mean())\n",
    "dict(zip(dgs,scores))\n"
   ]
  },
  {
   "cell_type": "code",
   "execution_count": null,
   "id": "2d729942",
   "metadata": {},
   "outputs": [],
   "source": []
  },
  {
   "cell_type": "markdown",
   "id": "70985d7c",
   "metadata": {},
   "source": [
    "Grid Search CV"
   ]
  },
  {
   "cell_type": "code",
   "execution_count": 13,
   "id": "54f32f32",
   "metadata": {},
   "outputs": [],
   "source": [
    "from sklearn.model_selection import GridSearchCV\n",
    "Poly=PolynomialFeatures()\n",
    "lr=LinearRegression()\n",
    "pipe=Pipeline([('POLY',poly),('LR',lr)])\n",
    "params={'POLY__degree':[2,3,4]}\n",
    "#print(pipe.get_params())"
   ]
  },
  {
   "cell_type": "code",
   "execution_count": 14,
   "id": "79fdc665",
   "metadata": {},
   "outputs": [
    {
     "name": "stdout",
     "output_type": "stream",
     "text": [
      "0.8000466873059098\n",
      "{'POLY__degree': 2}\n"
     ]
    }
   ],
   "source": [
    "gcv =GridSearchCV(pipe,cv=kfold,param_grid=params)\n",
    "gcv.fit(X,y)\n",
    "print(gcv.best_score_)\n",
    "print(gcv.best_params_)"
   ]
  },
  {
   "cell_type": "markdown",
   "id": "6dc62a04",
   "metadata": {},
   "source": [
    "housing Grid Search CV"
   ]
  },
  {
   "cell_type": "code",
   "execution_count": 15,
   "id": "5a18e566",
   "metadata": {},
   "outputs": [],
   "source": [
    "import pandas as pd\n",
    "import os\n",
    "os.chdir(\"F:\\PML\\Datasets\")\n",
    "from sklearn.linear_model import LinearRegression \n",
    "from sklearn.metrics import mean_squared_error, r2_score\n",
    "from sklearn.model_selection import KFold, cross_val_score\n",
    "from sklearn.preprocessing import PolynomialFeatures"
   ]
  },
  {
   "cell_type": "code",
   "execution_count": 17,
   "id": "cb68c0c6",
   "metadata": {},
   "outputs": [
    {
     "data": {
      "text/plain": [
       "(546, 12)"
      ]
     },
     "execution_count": 17,
     "metadata": {},
     "output_type": "execute_result"
    }
   ],
   "source": [
    "housing = pd.read_csv(\"Housing.csv\")\n",
    "housing.shape"
   ]
  }
 ],
 "metadata": {
  "kernelspec": {
   "display_name": "Python 3 (ipykernel)",
   "language": "python",
   "name": "python3"
  },
  "language_info": {
   "codemirror_mode": {
    "name": "ipython",
    "version": 3
   },
   "file_extension": ".py",
   "mimetype": "text/x-python",
   "name": "python",
   "nbconvert_exporter": "python",
   "pygments_lexer": "ipython3",
   "version": "3.11.5"
  }
 },
 "nbformat": 4,
 "nbformat_minor": 5
}
